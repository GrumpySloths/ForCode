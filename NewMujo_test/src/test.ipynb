{
   "cells": [
      {
         "cell_type": "code",
         "execution_count": 2,
         "metadata": {},
         "outputs": [
            {
               "name": "stdout",
               "output_type": "stream",
               "text": [
                  "0.0438\n",
                  "0.0182\n"
               ]
            }
         ],
         "source": [
            "print(0.031+0.0128)\n",
            "print(0.031-0.0128)"
         ]
      },
      {
         "cell_type": "code",
         "execution_count": 3,
         "metadata": {},
         "outputs": [
            {
               "data": {
                  "text/plain": [
                     "0.0399999798032799"
                  ]
               },
               "execution_count": 3,
               "metadata": {},
               "output_type": "execute_result"
            }
         ],
         "source": [
            "import numpy as np\n",
            "a=np.array([0.0025,0.1182])\n",
            "b=np.array([0.04081058,0.10669792])\n",
            "np.linalg.norm(a-b)"
         ]
      },
      {
         "cell_type": "code",
         "execution_count": 4,
         "metadata": {},
         "outputs": [
            {
               "data": {
                  "text/plain": [
                     "0.015000002942093043"
                  ]
               },
               "execution_count": 4,
               "metadata": {},
               "output_type": "execute_result"
            }
         ],
         "source": [
            "c=np.array([0.0335,0.0936])\n",
            "np.linalg.norm(b-c)"
         ]
      },
      {
         "cell_type": "code",
         "execution_count": 5,
         "metadata": {},
         "outputs": [
            {
               "name": "stdout",
               "output_type": "stream",
               "text": [
                  "0.1386\n",
                  "0.048600000000000004\n"
               ]
            }
         ],
         "source": [
            "print(0.0936+0.045)\n",
            "print(0.0936-0.045)"
         ]
      },
      {
         "cell_type": "code",
         "execution_count": 6,
         "metadata": {},
         "outputs": [],
         "source": [
            "import math\n",
            "def LawOfCosines_angle(la, lb, lc):\n",
            "    angle_ab_cos = (la*la + lb*lb - lc*lc)/(2*la*lb)\n",
            "    #print(\"----> \", angle_ab_cos)\n",
            "    if abs(angle_ab_cos) > 1:\n",
            "        return -10\n",
            "    angle_ab = math.acos(angle_ab_cos)\n",
            "    return angle_ab"
         ]
      },
      {
         "cell_type": "code",
         "execution_count": 7,
         "metadata": {},
         "outputs": [
            {
               "name": "stdout",
               "output_type": "stream",
               "text": [
                  "0.031000000000000003 0.0349999952222911 0.033591701736595606\n",
                  "60.83199900832184\n"
               ]
            }
         ],
         "source": [
            "A=np.array([0.0361,0.0025,0.0936])\n",
            "E=np.array([0.0361,0.0335,0.0936])\n",
            "F=np.array([0.0361,0.01644198,0.0630382])\n",
            "l_ae=np.linalg.norm(A-E)\n",
            "l_ef=np.linalg.norm(E-F)\n",
            "l_af=np.linalg.norm(A-F)\n",
            "print(l_ae,l_ef,l_af)\n",
            "print(LawOfCosines_angle(l_ae,l_ef,l_af)*180/np.pi)"
         ]
      },
      {
         "cell_type": "code",
         "execution_count": 8,
         "metadata": {},
         "outputs": [
            {
               "data": {
                  "text/plain": [
                     "0.0349999952222911"
                  ]
               },
               "execution_count": 8,
               "metadata": {},
               "output_type": "execute_result"
            }
         ],
         "source": [
            "((E[1]-F[1])**2+(E[2]-F[2])**2)**0.5"
         ]
      },
      {
         "cell_type": "code",
         "execution_count": 9,
         "metadata": {},
         "outputs": [
            {
               "data": {
                  "text/plain": [
                     "0.033591701736595606"
                  ]
               },
               "execution_count": 9,
               "metadata": {},
               "output_type": "execute_result"
            }
         ],
         "source": [
            "((A[1]-F[1])**2+(A[2]-F[2])**2)**0.5"
         ]
      },
      {
         "cell_type": "code",
         "execution_count": 10,
         "metadata": {},
         "outputs": [
            {
               "name": "stdout",
               "output_type": "stream",
               "text": [
                  "120.00000000000001\n"
               ]
            }
         ],
         "source": [
            "import math\n",
            "import numpy as np\n",
            "print(math.acos(-0.5)*180/np.pi)"
         ]
      },
      {
         "cell_type": "code",
         "execution_count": 11,
         "metadata": {},
         "outputs": [
            {
               "name": "stdout",
               "output_type": "stream",
               "text": [
                  "(20, 2)\n",
                  "(2,)\n"
               ]
            }
         ],
         "source": [
            "import re\n",
            "\n",
            "# 用于匹配坐标数据的正则表达式\n",
            "pattern = r'[-+]?\\d+\\.\\d+'\n",
            "\n",
            "data_list = []\n",
            "\n",
            "# 打开文件并逐行读取数据\n",
            "with open('inputs.txt', 'r') as file:\n",
            "    for line in file:\n",
            "        # print(line)\n",
            "        match = re.findall(pattern, line)\n",
            "        if match:\n",
            "            x_coord = float(match[0])\n",
            "            y_coord = float(match[1])\n",
            "            data_list.append([x_coord, y_coord])\n",
            "        else:\n",
            "            print(\"not match\")\n",
            "\n",
            "w=np.array(data_list[:-1])\n",
            "print(w.shape)\n",
            "b=np.array(data_list[-1:]).reshape(2,)\n",
            "print(b.shape)\n",
            "path=\"./data/ETG_models/slopeBest_{}.npz\".format(800)\n",
            "np.savez(path, w=w, b=b)\n"
         ]
      },
      {
         "cell_type": "code",
         "execution_count": 12,
         "metadata": {},
         "outputs": [
            {
               "name": "stdout",
               "output_type": "stream",
               "text": [
                  "match\n"
               ]
            }
         ],
         "source": [
            "pattern = r'[-+]?\\d+\\.\\d+'\n",
            "match=re.findall(pattern,\"[ -42.3054611   210.10581935]\")\n",
            "if match:\n",
            "    print(\"match\")\n"
         ]
      },
      {
         "cell_type": "code",
         "execution_count": 13,
         "metadata": {},
         "outputs": [],
         "source": [
            "a=[1,3,5,7]\n",
            "b=np.zeros(10)\n",
            "b[:3]=a[:3]\n",
            "tmp=np.random.randn(4)\n",
            "b[3:7]=tmp"
         ]
      },
      {
         "cell_type": "code",
         "execution_count": 14,
         "metadata": {},
         "outputs": [
            {
               "data": {
                  "text/plain": [
                     "array([ 1.        ,  3.        ,  5.        ,  0.90006273,  0.3128091 ,\n",
                     "       -1.42291834,  1.02659995,  0.        ,  0.        ,  0.        ])"
                  ]
               },
               "execution_count": 14,
               "metadata": {},
               "output_type": "execute_result"
            }
         ],
         "source": [
            "b"
         ]
      },
      {
         "cell_type": "code",
         "execution_count": 15,
         "metadata": {},
         "outputs": [],
         "source": [
            "import torch\n",
            "import os\n"
         ]
      },
      {
         "cell_type": "code",
         "execution_count": 16,
         "metadata": {},
         "outputs": [],
         "source": [
            "os.environ[\"CUDA_VISIBLE_DEVICES\"]=\"1\""
         ]
      },
      {
         "cell_type": "code",
         "execution_count": 17,
         "metadata": {},
         "outputs": [
            {
               "data": {
                  "text/plain": [
                     "1"
                  ]
               },
               "execution_count": 17,
               "metadata": {},
               "output_type": "execute_result"
            }
         ],
         "source": [
            "torch.cuda.device_count()"
         ]
      },
      {
         "cell_type": "code",
         "execution_count": 18,
         "metadata": {},
         "outputs": [
            {
               "data": {
                  "text/plain": [
                     "0.0"
                  ]
               },
               "execution_count": 18,
               "metadata": {},
               "output_type": "execute_result"
            }
         ],
         "source": [
            "float(False)"
         ]
      },
      {
         "cell_type": "code",
         "execution_count": 19,
         "metadata": {},
         "outputs": [],
         "source": [
            "import os\n",
            "\n",
            "model_folder = '/data/niujh/ForCode/NewMujo_test/src/data/exp7_ETG_RL_models'\n",
            "model_files = os.listdir(model_folder)\n",
            "\n",
            "model_files.sort(key=lambda x: os.path.getmtime(os.path.join(model_folder, x)), reverse=True)\n",
            "\n",
            "num_models_to_keep = 3\n",
            "models_to_delete = model_files[num_models_to_keep:]\n",
            "\n",
            "for model_file in models_to_delete:\n",
            "    os.remove(os.path.join(model_folder, model_file))\n"
         ]
      },
      {
         "cell_type": "code",
         "execution_count": 20,
         "metadata": {},
         "outputs": [
            {
               "data": {
                  "text/plain": [
                     "['itr_10000.pt', 'itr_10000.npz', 'itr_450002.npz']"
                  ]
               },
               "execution_count": 20,
               "metadata": {},
               "output_type": "execute_result"
            }
         ],
         "source": [
            "os.listdir(model_folder)"
         ]
      },
      {
         "cell_type": "code",
         "execution_count": 21,
         "metadata": {},
         "outputs": [
            {
               "data": {
                  "text/plain": [
                     "array([], dtype=int64)"
                  ]
               },
               "execution_count": 21,
               "metadata": {},
               "output_type": "execute_result"
            }
         ],
         "source": [
            "import numpy as np\n",
            "x=np.asarray([1,3,5])\n",
            "x[3:]"
         ]
      },
      {
         "cell_type": "code",
         "execution_count": 23,
         "metadata": {},
         "outputs": [
            {
               "name": "stdout",
               "output_type": "stream",
               "text": [
                  "Automatically created module for IPython interactive environment\n"
               ]
            }
         ],
         "source": []
      },
      {
         "cell_type": "code",
         "execution_count": null,
         "metadata": {},
         "outputs": [],
         "source": []
      }
   ],
   "metadata": {
      "kernelspec": {
         "display_name": "base",
         "language": "python",
         "name": "python3"
      },
      "language_info": {
         "codemirror_mode": {
            "name": "ipython",
            "version": 3
         },
         "file_extension": ".py",
         "mimetype": "text/x-python",
         "name": "python",
         "nbconvert_exporter": "python",
         "pygments_lexer": "ipython3",
         "version": "3.7.3 (default, Mar 27 2019, 22:11:17) \n[GCC 7.3.0]"
      },
      "orig_nbformat": 4,
      "vscode": {
         "interpreter": {
            "hash": "40d3a090f54c6569ab1632332b64b2c03c39dcf918b08424e98f38b5ae0af88f"
         }
      }
   },
   "nbformat": 4,
   "nbformat_minor": 2
}
