{
 "cells": [
  {
   "cell_type": "code",
   "execution_count": 31,
   "metadata": {},
   "outputs": [],
   "source": [
    "import time\n",
    "import numpy as np\n",
    "import mujoco\n",
    "import mujoco.viewer\n",
    "import math\n",
    "import os\n",
    "# print(time.time())\n",
    "\n",
    "m = mujoco.MjModel.from_xml_path(\n",
    "    '/mnt/S58Data1/niujh/ForCode/ForSim/New/models/dynamic_4l.xml')\n",
    "d = mujoco.MjData(m)\n"
   ]
  },
  {
   "cell_type": "code",
   "execution_count": 32,
   "metadata": {},
   "outputs": [],
   "source": [
    "mujoco.mj_resetData(m,d)"
   ]
  },
  {
   "cell_type": "code",
   "execution_count": 33,
   "metadata": {},
   "outputs": [
    {
     "data": {
      "text/plain": [
       "0.0"
      ]
     },
     "execution_count": 33,
     "metadata": {},
     "output_type": "execute_result"
    }
   ],
   "source": [
    "d.geom_xpos[1][1]"
   ]
  },
  {
   "cell_type": "code",
   "execution_count": 34,
   "metadata": {},
   "outputs": [
    {
     "data": {
      "text/plain": [
       "1"
      ]
     },
     "execution_count": 34,
     "metadata": {},
     "output_type": "execute_result"
    }
   ],
   "source": [
    "def test():\n",
    "    return (1,3)\n",
    "a=test()\n",
    "a[0]"
   ]
  },
  {
   "cell_type": "code",
   "execution_count": 35,
   "metadata": {},
   "outputs": [
    {
     "name": "stdout",
     "output_type": "stream",
     "text": [
      "44\n"
     ]
    },
    {
     "data": {
      "text/plain": [
       "['rail', 'neck', 'head', 'thigh_joint_fl', 'leg_joint_fl']"
      ]
     },
     "execution_count": 35,
     "metadata": {},
     "output_type": "execute_result"
    }
   ],
   "source": [
    "print(m.njnt)\n",
    "[m.joint(i).name for i in range(5)]\n",
    "# m.joint(1)"
   ]
  },
  {
   "cell_type": "code",
   "execution_count": 36,
   "metadata": {},
   "outputs": [
    {
     "data": {
      "text/plain": [
       "['imu', 'thigh_link_fl', 'thigh_up_point_1_fl', 'leg_link_fl', 'knee_down_fl']"
      ]
     },
     "execution_count": 36,
     "metadata": {},
     "output_type": "execute_result"
    }
   ],
   "source": [
    "m.nsite\n",
    "[m.site(i).name for i in range(5)]"
   ]
  },
  {
   "cell_type": "code",
   "execution_count": 37,
   "metadata": {},
   "outputs": [
    {
     "data": {
      "text/plain": [
       "array([ 0.   , -0.   ,  0.055])"
      ]
     },
     "execution_count": 37,
     "metadata": {},
     "output_type": "execute_result"
    }
   ],
   "source": [
    "id=mujoco.mj_name2id(m,mujoco.mjtObj.mjOBJ_GEOM,\"slope1\")\n",
    "quat=m.geom(id).pos\n",
    "# m.site(1)\n",
    "quat"
   ]
  },
  {
   "cell_type": "code",
   "execution_count": 38,
   "metadata": {},
   "outputs": [
    {
     "data": {
      "text/plain": [
       "['', 'slope1', 'slope2', 'mouse_body', 'spine_mouse']"
      ]
     },
     "execution_count": 38,
     "metadata": {},
     "output_type": "execute_result"
    }
   ],
   "source": [
    "m.ngeom\n",
    "[m.geom(i).name for i in range(5)]"
   ]
  },
  {
   "cell_type": "code",
   "execution_count": 39,
   "metadata": {},
   "outputs": [
    {
     "name": "stdout",
     "output_type": "stream",
     "text": [
      "-0.0006141944433937511\n"
     ]
    },
    {
     "data": {
      "text/plain": [
       "array([[-9.99999785e-01,  6.13653701e-04,  2.29916781e-04],\n",
       "       [-6.14194443e-04, -9.99997028e-01, -2.35926380e-03],\n",
       "       [ 2.28468327e-04, -2.35940451e-03,  9.99997191e-01]])"
      ]
     },
     "execution_count": 39,
     "metadata": {},
     "output_type": "execute_result"
    }
   ],
   "source": [
    "rot=np.zeros((9,1))\n",
    "quat=np.array([-0.0003069622661036984, 0.00011459636274888154, -0.0011796679610890292, 0.9999992505123904])\n",
    "mujoco.mju_quat2Mat(rot,quat)\n",
    "print(rot[3][0])\n",
    "rot.reshape(-1,3)"
   ]
  },
  {
   "cell_type": "code",
   "execution_count": null,
   "metadata": {},
   "outputs": [],
   "source": []
  },
  {
   "cell_type": "code",
   "execution_count": 40,
   "metadata": {},
   "outputs": [
    {
     "data": {
      "text/plain": [
       "25.537434390636324"
      ]
     },
     "execution_count": 40,
     "metadata": {},
     "output_type": "execute_result"
    }
   ],
   "source": [
    "import math\n",
    "ang=math.atan2(0.43,0.90)\n",
    "ang=ang/np.pi*180\n",
    "ang"
   ]
  },
  {
   "cell_type": "code",
   "execution_count": 41,
   "metadata": {},
   "outputs": [
    {
     "data": {
      "text/plain": [
       "0.7853981633974483"
      ]
     },
     "execution_count": 41,
     "metadata": {},
     "output_type": "execute_result"
    }
   ],
   "source": [
    "math.atan2(1,1)"
   ]
  },
  {
   "cell_type": "code",
   "execution_count": 42,
   "metadata": {},
   "outputs": [
    {
     "data": {
      "text/plain": [
       "array([0., 0., 0.])"
      ]
     },
     "execution_count": 42,
     "metadata": {},
     "output_type": "execute_result"
    }
   ],
   "source": [
    "d.site_xpos[1]"
   ]
  },
  {
   "cell_type": "code",
   "execution_count": 43,
   "metadata": {},
   "outputs": [],
   "source": [
    "# viewer = mujoco.viewer.launch_passive(m, d)"
   ]
  },
  {
   "cell_type": "code",
   "execution_count": 44,
   "metadata": {},
   "outputs": [
    {
     "ename": "NameError",
     "evalue": "name 'viewer' is not defined",
     "output_type": "error",
     "traceback": [
      "\u001b[0;31m---------------------------------------------------------------------------\u001b[0m",
      "\u001b[0;31mNameError\u001b[0m                                 Traceback (most recent call last)",
      "\u001b[1;32m/mnt/S58Data1/niujh/ForCode/NewMujo_test/test.ipynb 单元格 15\u001b[0m line \u001b[0;36m<cell line: 1>\u001b[0;34m()\u001b[0m\n\u001b[0;32m----> <a href='vscode-notebook-cell://ssh-remote%2B222.200.180.49/mnt/S58Data1/niujh/ForCode/NewMujo_test/test.ipynb#X20sdnNjb2RlLXJlbW90ZQ%3D%3D?line=0'>1</a>\u001b[0m viewer\u001b[39m.\u001b[39mcam\u001b[39m.\u001b[39mazimuth\u001b[39m=\u001b[39m\u001b[39m90\u001b[39m\n",
      "\u001b[0;31mNameError\u001b[0m: name 'viewer' is not defined"
     ]
    }
   ],
   "source": [
    "viewer.cam.azimuth=90"
   ]
  },
  {
   "cell_type": "code",
   "execution_count": null,
   "metadata": {},
   "outputs": [
    {
     "data": {
      "text/plain": [
       "3.200997512422418"
      ]
     },
     "execution_count": 15,
     "metadata": {},
     "output_type": "execute_result"
    }
   ],
   "source": [
    "m.stat.extent"
   ]
  },
  {
   "cell_type": "code",
   "execution_count": null,
   "metadata": {},
   "outputs": [
    {
     "data": {
      "text/plain": [
       "array([0., 0., 0., 0., 0., 0., 0., 0., 0., 0., 0., 0.])"
      ]
     },
     "execution_count": 16,
     "metadata": {},
     "output_type": "execute_result"
    }
   ],
   "source": [
    "d.ctrl"
   ]
  },
  {
   "cell_type": "code",
   "execution_count": null,
   "metadata": {},
   "outputs": [
    {
     "data": {
      "text/plain": [
       "0.002"
      ]
     },
     "execution_count": 17,
     "metadata": {},
     "output_type": "execute_result"
    }
   ],
   "source": [
    "m.opt.timestep"
   ]
  },
  {
   "cell_type": "code",
   "execution_count": null,
   "metadata": {},
   "outputs": [
    {
     "name": "stdout",
     "output_type": "stream",
     "text": [
      "0.9902680687415704\n",
      "-0.13917310096006544\n",
      "-0.05512747116339983\n",
      "0.1922523391876638\n"
     ]
    }
   ],
   "source": [
    "print(np.cos(-8/180*np.pi))\n",
    "print(np.sin(-8/180*np.pi))\n",
    "print(0.2*np.sin(-16/180*np.pi))\n",
    "print(0.2*np.cos(-16/180*np.pi))\n"
   ]
  },
  {
   "cell_type": "code",
   "execution_count": null,
   "metadata": {},
   "outputs": [],
   "source": [
    "import matplotlib.pyplot as plt"
   ]
  },
  {
   "cell_type": "code",
   "execution_count": null,
   "metadata": {},
   "outputs": [],
   "source": [
    "class ETG_layer():\n",
    "    def __init__(self, T, dt, H, sigma_sq, phase, amp, T2_radio):\n",
    "        #T2_ratio mean the ratio forward t,在这里基本表示着周期的一半\n",
    "        self.dt = dt\n",
    "        self.T = T\n",
    "        self.t = 0\n",
    "        self.H = H\n",
    "        self.sigma_sq = sigma_sq\n",
    "        self.phase = phase\n",
    "        self.amp = amp\n",
    "        self.u = []\n",
    "        self.omega = 2.0 * np.pi / T\n",
    "        self.T2_ratio = T2_radio\n",
    "        for h in range(H):\n",
    "            t_now = h * self.T / (H - 0.9)\n",
    "            self.u.append(self.forward(t_now))\n",
    "        #self.u包含了u_ij的信息\n",
    "        self.u = np.asarray(self.u).reshape(-1, 2)\n",
    "        self.TD = 0\n",
    "\n",
    "    def forward(self, t):\n",
    "        x = []\n",
    "        for i in range(self.phase.shape[0]):\n",
    "            x.append(self.amp * np.sin(self.phase[i] + t * self.omega))\n",
    "        return np.asarray(x).reshape(-1)\n",
    "\n",
    "    def update(self, t=None):\n",
    "        '''\n",
    "        用于计算P=W*V+b中的V\n",
    "        '''\n",
    "        time = t if t is not None else self.t\n",
    "        x = self.forward(time)\n",
    "        self.t += self.dt\n",
    "        r = []\n",
    "        for i in range(self.H):\n",
    "            dist = np.sum(np.power(x - self.u[i], 2)) / self.sigma_sq\n",
    "            r.append(np.exp(-dist))\n",
    "        r = np.asarray(r).reshape(-1)\n",
    "        return r\n",
    "\n",
    "    def update2(self, t=None, info=None):\n",
    "        '''\n",
    "        用于计算t时刻的V和t+T/2时刻的V，这里要计算不同时刻的V是为了得到常用的步态，即rf和lh足部同向，\n",
    "        lf和rh足部同向且和另两条腿相差T/2 phase\n",
    "        '''\n",
    "        time = t if t is not None else self.t\n",
    "        x = self.forward(time)\n",
    "        x2 = self.forward(time + self.T2_ratio * self.T)\n",
    "        self.t += self.dt\n",
    "        r = []\n",
    "        for i in range(self.H):\n",
    "            dist = np.sum(np.power(x - self.u[i], 2)) / self.sigma_sq\n",
    "            r.append(np.exp(-dist))\n",
    "        r = np.asarray(r).reshape(-1)\n",
    "        r2 = []\n",
    "        for i in range(self.H):\n",
    "            dist = np.sum(np.power(x2 - self.u[i], 2)) / self.sigma_sq\n",
    "            r2.append(np.exp(-dist))\n",
    "        r2 = np.asarray(r2).reshape(-1)\n",
    "        return (r, r2)\n",
    "\n",
    "    def observation_T(self):\n",
    "        ts = np.arange(0, self.T, self.dt)\n",
    "        x = {t: self.forward(t) for t in ts}\n",
    "        r_all = {}\n",
    "        for j in ts:\n",
    "            r = []\n",
    "            for i in range(self.H):\n",
    "                dist = np.sum(np.power(x[j] - self.u[i], 2)) / self.sigma_sq\n",
    "                r.append(np.exp(-dist))\n",
    "            r_all[j] = np.asarray(r).reshape(-1)\n",
    "        return r_all\n",
    "\n",
    "    def get_phase(self):\n",
    "        return self.forward(self.t - self.dt)\n",
    "\n",
    "    def reset(self):\n",
    "        self.t = 0\n",
    "        self.TD = 0"
   ]
  },
  {
   "cell_type": "code",
   "execution_count": null,
   "metadata": {},
   "outputs": [],
   "source": [
    "ETG_T=2\n",
    "ETG_H=20\n",
    "phase=np.array([-np.pi/2,0])\n",
    "ETG_T2=0.5\n",
    "ETG_dt=0.002\n",
    "ETG_amp=0.2\n",
    "ETG_agent = ETG_layer(ETG_T, ETG_dt, ETG_H, 0.04, phase, ETG_amp,\n",
    "                          ETG_T2)\n"
   ]
  },
  {
   "cell_type": "code",
   "execution_count": 45,
   "metadata": {},
   "outputs": [
    {
     "data": {
      "text/plain": [
       "(5, 2)"
      ]
     },
     "execution_count": 45,
     "metadata": {},
     "output_type": "execute_result"
    }
   ],
   "source": [
    "pointsSlope=[[ 0.01547304, -0.04082316],\n",
    "       [-0.02824815, -0.04302008],\n",
    "       [-0.01718435, -0.05053774],\n",
    "       [-0.00024149, -0.05153843],\n",
    "       [ 0.02100094, -0.05227396]]\n",
    "pointsSlope=np.asarray(pointsSlope)\n",
    "pointsSlope.shape"
   ]
  },
  {
   "cell_type": "code",
   "execution_count": 46,
   "metadata": {},
   "outputs": [
    {
     "data": {
      "text/plain": [
       "10"
      ]
     },
     "execution_count": 46,
     "metadata": {},
     "output_type": "execute_result"
    }
   ],
   "source": [
    "pointsSlope.size"
   ]
  },
  {
   "cell_type": "code",
   "execution_count": 47,
   "metadata": {},
   "outputs": [],
   "source": [
    "para_FU = [[-0.00, -0.045], [0.03, 0.01]]\n",
    "para_FD = [[-0.00, -0.045], [0.03, 0.005]]\n",
    "radSample=np.linspace(0,2*np.pi,10)\n",
    "trj_ys=[]\n",
    "trj_zs=[]\n",
    "for cur_radian in radSample:\n",
    "    if cur_radian<np.pi:\n",
    "        originPoint=para_FU[0]\n",
    "        ovalRadius=para_FU[1]\n",
    "    else:\n",
    "        originPoint=para_FD[0]\n",
    "        ovalRadius=para_FD[1]\n",
    "    trg_y = originPoint[0] + ovalRadius[0] * math.cos(cur_radian)\n",
    "    trg_z = originPoint[1] + ovalRadius[1] * math.sin(cur_radian)\n",
    "    trj_ys.append(trg_y)\n",
    "    trj_zs.append(trg_z)\n",
    "points=np.stack([trj_ys,trj_zs],axis=1)\n",
    "def getETGinfo(points):\n",
    "    b=np.mean(points,axis=0)\n",
    "    points_t=points-b\n",
    "\n",
    "    obs=[]\n",
    "    # ts=radSample/(2*np.pi)*ETG_T\n",
    "    ts=np.linspace(0,ETG_T,points.shape[0])\n",
    "    for t in ts:\n",
    "        v=ETG_agent.update(t)\n",
    "        obs.append(v)\n",
    "    obs=np.asarray(obs).reshape(-1,20)\n",
    "    w=np.linalg.pinv(obs).dot(points_t)\n",
    "\n",
    "    return w,b\n",
    "\n",
    "# plt.scatter(trj_ys,trj_zs)\n"
   ]
  },
  {
   "cell_type": "code",
   "execution_count": 48,
   "metadata": {},
   "outputs": [],
   "source": [
    "w_slope,b_slope=getETGinfo(pointsSlope)\n"
   ]
  },
  {
   "cell_type": "code",
   "execution_count": 49,
   "metadata": {},
   "outputs": [],
   "source": [
    "def ETG_trj_plot(w,b):\n",
    "    ts_new=np.linspace(0,ETG_T,100)\n",
    "    obs1=[]\n",
    "    for t in ts_new:\n",
    "        v=ETG_agent.update(t)\n",
    "        obs1.append(v)\n",
    "    obs1=np.asarray(obs1).reshape(-1,20)\n",
    "    points_new=obs1.dot(w)+b\n",
    "    plt.plot(points_new[:,0],points_new[:,1])"
   ]
  },
  {
   "cell_type": "code",
   "execution_count": 50,
   "metadata": {},
   "outputs": [
    {
     "data": {
      "image/png": "[encoded data removed]",
      "text/plain": [
       "<Figure size 640x480 with 1 Axes>"
      ]
     },
     "metadata": {},
     "output_type": "display_data"
    }
   ],
   "source": [
    "ETG_trj_plot(w_slope,b_slope)"
   ]
  },
  {
   "cell_type": "code",
   "execution_count": 51,
   "metadata": {},
   "outputs": [
    {
     "data": {
      "text/plain": [
       "array([9, 8, 7, 6, 5, 4, 3, 2, 1, 0])"
      ]
     },
     "execution_count": 51,
     "metadata": {},
     "output_type": "execute_result"
    }
   ],
   "source": [
    "x=np.arange(10)\n",
    "x[::-1]"
   ]
  },
  {
   "cell_type": "code",
   "execution_count": 52,
   "metadata": {},
   "outputs": [],
   "source": [
    "def saveETGinfo(path,w,b,param):\n",
    "    np.savez(path,w=w,b=b,param=param)\n",
    "path=\"/mnt/S58Data1/niujh/ForCode/NewMujo_test/src/data/ETG_models/Slope_ETG.npz\"\n",
    "saveETGinfo(path,w_slope,b_slope,pointsSlope)"
   ]
  },
  {
   "cell_type": "code",
   "execution_count": 53,
   "metadata": {},
   "outputs": [
    {
     "ename": "FileNotFoundError",
     "evalue": "[Errno 2] No such file or directory: '/home/niujh/ForCode/NewMujo_test/src/data/ETG_models/Slope_ETG.npz'",
     "output_type": "error",
     "traceback": [
      "\u001b[0;31m---------------------------------------------------------------------------\u001b[0m",
      "\u001b[0;31mFileNotFoundError\u001b[0m                         Traceback (most recent call last)",
      "\u001b[1;32m/mnt/S58Data1/niujh/ForCode/NewMujo_test/test.ipynb 单元格 31\u001b[0m line \u001b[0;36m<cell line: 1>\u001b[0;34m()\u001b[0m\n\u001b[0;32m----> <a href='vscode-notebook-cell://ssh-remote%2B222.200.180.49/mnt/S58Data1/niujh/ForCode/NewMujo_test/test.ipynb#X42sdnNjb2RlLXJlbW90ZQ%3D%3D?line=0'>1</a>\u001b[0m ETG_info\u001b[39m=\u001b[39mnp\u001b[39m.\u001b[39;49mload(\u001b[39m\"\u001b[39;49m\u001b[39m/home/niujh/ForCode/NewMujo_test/src/data/ETG_models/Slope_ETG.npz\u001b[39;49m\u001b[39m\"\u001b[39;49m)\n\u001b[1;32m      <a href='vscode-notebook-cell://ssh-remote%2B222.200.180.49/mnt/S58Data1/niujh/ForCode/NewMujo_test/test.ipynb#X42sdnNjb2RlLXJlbW90ZQ%3D%3D?line=1'>2</a>\u001b[0m ETG_info[\u001b[39m'\u001b[39m\u001b[39mb\u001b[39m\u001b[39m'\u001b[39m]\n",
      "File \u001b[0;32m~/.conda/envs/pytorch/lib/python3.10/site-packages/numpy/lib/npyio.py:427\u001b[0m, in \u001b[0;36mload\u001b[0;34m(file, mmap_mode, allow_pickle, fix_imports, encoding, max_header_size)\u001b[0m\n\u001b[1;32m    425\u001b[0m     own_fid \u001b[39m=\u001b[39m \u001b[39mFalse\u001b[39;00m\n\u001b[1;32m    426\u001b[0m \u001b[39melse\u001b[39;00m:\n\u001b[0;32m--> 427\u001b[0m     fid \u001b[39m=\u001b[39m stack\u001b[39m.\u001b[39menter_context(\u001b[39mopen\u001b[39;49m(os_fspath(file), \u001b[39m\"\u001b[39;49m\u001b[39mrb\u001b[39;49m\u001b[39m\"\u001b[39;49m))\n\u001b[1;32m    428\u001b[0m     own_fid \u001b[39m=\u001b[39m \u001b[39mTrue\u001b[39;00m\n\u001b[1;32m    430\u001b[0m \u001b[39m# Code to distinguish from NumPy binary files and pickles.\u001b[39;00m\n",
      "\u001b[0;31mFileNotFoundError\u001b[0m: [Errno 2] No such file or directory: '/home/niujh/ForCode/NewMujo_test/src/data/ETG_models/Slope_ETG.npz'"
     ]
    }
   ],
   "source": [
    "ETG_info=np.load(\"/home/niujh/ForCode/NewMujo_test/src/data/ETG_models/Slope_ETG.npz\")\n",
    "ETG_info['b']"
   ]
  },
  {
   "cell_type": "code",
   "execution_count": null,
   "metadata": {},
   "outputs": [
    {
     "data": {
      "text/plain": [
       "array([ 0.003     , -0.04358218])"
      ]
     },
     "execution_count": 29,
     "metadata": {},
     "output_type": "execute_result"
    }
   ],
   "source": [
    "points\n",
    "np.mean(points,axis=0)"
   ]
  },
  {
   "cell_type": "code",
   "execution_count": null,
   "metadata": {},
   "outputs": [
    {
     "data": {
      "text/plain": [
       "0.6"
      ]
     },
     "execution_count": 30,
     "metadata": {},
     "output_type": "execute_result"
    }
   ],
   "source": [
    "np.pi*3/5/np.pi"
   ]
  },
  {
   "cell_type": "code",
   "execution_count": null,
   "metadata": {},
   "outputs": [
    {
     "data": {
      "text/plain": [
       "5"
      ]
     },
     "execution_count": 31,
     "metadata": {},
     "output_type": "execute_result"
    }
   ],
   "source": [
    "x=[[1,3,5]]\n",
    "x[0][-1]"
   ]
  }
 ],
 "metadata": {
  "kernelspec": {
   "display_name": "mujo_new",
   "language": "python",
   "name": "python3"
  },
  "language_info": {
   "codemirror_mode": {
    "name": "ipython",
    "version": 3
   },
   "file_extension": ".py",
   "mimetype": "text/x-python",
   "name": "python",
   "nbconvert_exporter": "python",
   "pygments_lexer": "ipython3",
   "version": "3.10.4"
  },
  "orig_nbformat": 4
 },
 "nbformat": 4,
 "nbformat_minor": 2
}
