{
 "cells": [
  {
   "cell_type": "code",
   "execution_count": 5,
   "metadata": {},
   "outputs": [
    {
     "name": "stdout",
     "output_type": "stream",
     "text": [
      "0.0438\n",
      "0.0182\n"
     ]
    }
   ],
   "source": [
    "print(0.031+0.0128)\n",
    "print(0.031-0.0128)"
   ]
  },
  {
   "cell_type": "code",
   "execution_count": 6,
   "metadata": {},
   "outputs": [
    {
     "data": {
      "text/plain": [
       "0.0399999798032799"
      ]
     },
     "execution_count": 6,
     "metadata": {},
     "output_type": "execute_result"
    }
   ],
   "source": [
    "import numpy as np\n",
    "a=np.array([0.0025,0.1182])\n",
    "b=np.array([0.04081058,0.10669792])\n",
    "np.linalg.norm(a-b)"
   ]
  },
  {
   "cell_type": "code",
   "execution_count": 7,
   "metadata": {},
   "outputs": [
    {
     "data": {
      "text/plain": [
       "0.015000002942093043"
      ]
     },
     "execution_count": 7,
     "metadata": {},
     "output_type": "execute_result"
    }
   ],
   "source": [
    "c=np.array([0.0335,0.0936])\n",
    "np.linalg.norm(b-c)"
   ]
  },
  {
   "cell_type": "code",
   "execution_count": 8,
   "metadata": {},
   "outputs": [
    {
     "name": "stdout",
     "output_type": "stream",
     "text": [
      "0.1386\n",
      "0.048600000000000004\n"
     ]
    }
   ],
   "source": [
    "print(0.0936+0.045)\n",
    "print(0.0936-0.045)"
   ]
  },
  {
   "cell_type": "code",
   "execution_count": 9,
   "metadata": {},
   "outputs": [],
   "source": [
    "import math\n",
    "def LawOfCosines_angle(la, lb, lc):\n",
    "    angle_ab_cos = (la*la + lb*lb - lc*lc)/(2*la*lb)\n",
    "    #print(\"----> \", angle_ab_cos)\n",
    "    if abs(angle_ab_cos) > 1:\n",
    "        return -10\n",
    "    angle_ab = math.acos(angle_ab_cos)\n",
    "    return angle_ab"
   ]
  },
  {
   "cell_type": "code",
   "execution_count": 12,
   "metadata": {},
   "outputs": [
    {
     "name": "stdout",
     "output_type": "stream",
     "text": [
      "0.031000000000000003 0.0349999952222911 0.033591701736595606\n",
      "60.83199900832184\n"
     ]
    }
   ],
   "source": [
    "A=np.array([0.0361,0.0025,0.0936])\n",
    "E=np.array([0.0361,0.0335,0.0936])\n",
    "F=np.array([0.0361,0.01644198,0.0630382])\n",
    "l_ae=np.linalg.norm(A-E)\n",
    "l_ef=np.linalg.norm(E-F)\n",
    "l_af=np.linalg.norm(A-F)\n",
    "print(l_ae,l_ef,l_af)\n",
    "print(LawOfCosines_angle(l_ae,l_ef,l_af)*180/np.pi)"
   ]
  },
  {
   "cell_type": "code",
   "execution_count": 15,
   "metadata": {},
   "outputs": [
    {
     "data": {
      "text/plain": [
       "0.0349999952222911"
      ]
     },
     "execution_count": 15,
     "metadata": {},
     "output_type": "execute_result"
    }
   ],
   "source": [
    "((E[1]-F[1])**2+(E[2]-F[2])**2)**0.5"
   ]
  },
  {
   "cell_type": "code",
   "execution_count": 16,
   "metadata": {},
   "outputs": [
    {
     "data": {
      "text/plain": [
       "0.033591701736595606"
      ]
     },
     "execution_count": 16,
     "metadata": {},
     "output_type": "execute_result"
    }
   ],
   "source": [
    "((A[1]-F[1])**2+(A[2]-F[2])**2)**0.5"
   ]
  },
  {
   "cell_type": "code",
   "execution_count": 2,
   "metadata": {},
   "outputs": [
    {
     "name": "stdout",
     "output_type": "stream",
     "text": [
      "120.00000000000001\n"
     ]
    }
   ],
   "source": [
    "import math\n",
    "import numpy as np\n",
    "print(math.acos(-0.5)*180/np.pi)"
   ]
  },
  {
   "cell_type": "code",
   "execution_count": null,
   "metadata": {},
   "outputs": [],
   "source": []
  }
 ],
 "metadata": {
  "kernelspec": {
   "display_name": "mujo",
   "language": "python",
   "name": "python3"
  },
  "language_info": {
   "codemirror_mode": {
    "name": "ipython",
    "version": 3
   },
   "file_extension": ".py",
   "mimetype": "text/x-python",
   "name": "python",
   "nbconvert_exporter": "python",
   "pygments_lexer": "ipython3",
   "version": "3.8.16"
  },
  "orig_nbformat": 4
 },
 "nbformat": 4,
 "nbformat_minor": 2
}
