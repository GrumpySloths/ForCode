{
 "cells": [
  {
   "cell_type": "code",
   "execution_count": 7,
   "metadata": {},
   "outputs": [
    {
     "name": "stdout",
     "output_type": "stream",
     "text": [
      "('main_box', 'leg1', 'leg2', 'ankle', 'motor2')\n",
      "('world', 'main_leg', 'lower_leg', 'servo2')\n"
     ]
    },
    {
     "data": {
      "text/plain": [
       "0"
      ]
     },
     "execution_count": 7,
     "metadata": {},
     "output_type": "execute_result"
    }
   ],
   "source": [
    "import mujoco_py\n",
    "import os\n",
    "\n",
    "# choice=input(\"请输入文件路径所对应数字: \")\n",
    "path=[\"./front_leg_t1_exp.xml\",\"./front_leg_t1_large.xml\",\"rear_leg_t1_exp.xml\"]\n",
    "# model = mujoco_py.load_model_from_path(\"./front_leg_t1_large.xml\")\n",
    "model = mujoco_py.load_model_from_path(path[0])\n",
    "sim = mujoco_py.MjSim(model)\n",
    "# viewer = mujoco_py.MjViewer(sim)\n",
    "# while True:\n",
    "#     sim.step()\n",
    "#     viewer.render()\n",
    "print(model.geom_names)\n",
    "print(model.body_names)\n",
    "model.body_name2id(\"world\")\n"
   ]
  },
  {
   "cell_type": "code",
   "execution_count": 11,
   "metadata": {},
   "outputs": [
    {
     "name": "stdout",
     "output_type": "stream",
     "text": [
      "x1 pos: [ 0.0136     -0.01450085  0.09989087]\n",
      "knee_start pos: [0.0136     0.00679879 0.09132111]\n",
      "m2_pickup pos: [0.0136     0.0247999  0.07313548]\n",
      "knee_pickup pos: [0.0136     0.02468994 0.06313608]\n",
      "ankle_start pos: [0.0136     0.02488787 0.08113499]\n",
      "s1 pos: [ 1.36000000e-02 -1.54939171e-06  1.13190868e-01]\n"
     ]
    }
   ],
   "source": [
    "sim.step()\n",
    "for it in model.site_names:\n",
    "    print(it,\"pos:\",sim.data.get_site_xpos(it))\n",
    "\n"
   ]
  },
  {
   "cell_type": "code",
   "execution_count": 29,
   "metadata": {},
   "outputs": [
    {
     "data": {
      "text/plain": [
       "array([0., 0.])"
      ]
     },
     "execution_count": 29,
     "metadata": {},
     "output_type": "execute_result"
    }
   ],
   "source": [
    "sim.data.ctrl\n"
   ]
  },
  {
   "cell_type": "code",
   "execution_count": 21,
   "metadata": {},
   "outputs": [
    {
     "data": {
      "text/plain": [
       "('rail', 'rail2', 'm1', 'knee1', 'm2')"
      ]
     },
     "execution_count": 21,
     "metadata": {},
     "output_type": "execute_result"
    }
   ],
   "source": [
    "model.joint_names"
   ]
  },
  {
   "cell_type": "code",
   "execution_count": 22,
   "metadata": {},
   "outputs": [
    {
     "data": {
      "text/plain": [
       "MjSimState(time=0.0, qpos=array([0.       , 0.       , 2.0943951, 0.       , 0.       ]), qvel=array([0., 0., 0., 0., 0.]), act=None, udd_state={})"
      ]
     },
     "execution_count": 22,
     "metadata": {},
     "output_type": "execute_result"
    }
   ],
   "source": [
    "sim.get_state()"
   ]
  },
  {
   "cell_type": "code",
   "execution_count": 23,
   "metadata": {},
   "outputs": [
    {
     "data": {
      "text/plain": [
       "MjSimState(time=0.002, qpos=array([-3.61916551e-05, -3.30131638e-07,  2.09068488e+00, -1.94464650e-04,\n",
       "        1.67433081e-04]), qvel=array([-1.80958276e-02, -1.65065819e-04, -1.85511160e+00, -9.72323249e-02,\n",
       "        8.37165404e-02]), act=None, udd_state={})"
      ]
     },
     "execution_count": 23,
     "metadata": {},
     "output_type": "execute_result"
    }
   ],
   "source": [
    "sim.step()\n",
    "sim.get_state()"
   ]
  },
  {
   "cell_type": "code",
   "execution_count": 30,
   "metadata": {},
   "outputs": [
    {
     "data": {
      "text/plain": [
       "2"
      ]
     },
     "execution_count": 30,
     "metadata": {},
     "output_type": "execute_result"
    }
   ],
   "source": [
    "import mujoco_py\n",
    "\n",
    "xml = \"\"\"\n",
    "<mujoco>\n",
    "  <worldbody>\n",
    "    <geom name=\"red_box\" type=\"box\" size=\".2 .2 .2\" rgba=\"1 0 0 1\"/>\n",
    "    <geom name=\"green_sphere\" pos=\".2 .2 .2\" size=\".1\" rgba=\"0 1 0 1\"/>\n",
    "  </worldbody>\n",
    "</mujoco>\n",
    "\"\"\"\n",
    "\n",
    "model = mujoco_py.load_model_from_xml(xml)\n",
    "sim = mujoco_py.MjSim(model)\n",
    "model.ngeom\n"
   ]
  },
  {
   "cell_type": "code",
   "execution_count": 31,
   "metadata": {},
   "outputs": [],
   "source": [
    "sim.data.ctrl"
   ]
  },
  {
   "cell_type": "code",
   "execution_count": 25,
   "metadata": {},
   "outputs": [
    {
     "data": {
      "text/plain": [
       "MjSimState(time=0.0, qpos=array(None, dtype=object), qvel=array(None, dtype=object), act=None, udd_state={})"
      ]
     },
     "execution_count": 25,
     "metadata": {},
     "output_type": "execute_result"
    }
   ],
   "source": [
    "sim.get_state()"
   ]
  },
  {
   "cell_type": "code",
   "execution_count": 2,
   "metadata": {},
   "outputs": [
    {
     "data": {
      "text/plain": [
       "[2, 3, 4, 4]"
      ]
     },
     "execution_count": 2,
     "metadata": {},
     "output_type": "execute_result"
    }
   ],
   "source": [
    "x=[2,3]\n",
    "y=[4]\n",
    "x.extend(y)\n",
    "x.extend(y)\n",
    "x"
   ]
  },
  {
   "cell_type": "code",
   "execution_count": null,
   "metadata": {},
   "outputs": [],
   "source": []
  }
 ],
 "metadata": {
  "kernelspec": {
   "display_name": "mujo",
   "language": "python",
   "name": "python3"
  },
  "language_info": {
   "codemirror_mode": {
    "name": "ipython",
    "version": 3
   },
   "file_extension": ".py",
   "mimetype": "text/x-python",
   "name": "python",
   "nbconvert_exporter": "python",
   "pygments_lexer": "ipython3",
   "version": "3.8.16"
  },
  "orig_nbformat": 4
 },
 "nbformat": 4,
 "nbformat_minor": 2
}
